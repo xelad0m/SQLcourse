{
 "metadata": {
  "language_info": {
   "codemirror_mode": {
    "name": "ipython",
    "version": 3
   },
   "file_extension": ".py",
   "mimetype": "text/x-python",
   "name": "python",
   "nbconvert_exporter": "python",
   "pygments_lexer": "ipython3",
   "version": 3
  },
  "orig_nbformat": 4
 },
 "nbformat": 4,
 "nbformat_minor": 2,
 "cells": [
  {
   "cell_type": "markdown",
   "source": [
    "Сформулируйте SQL запрос для создания таблицы book. Структура таблицы book:\n",
    "\n",
    "    Поле \tТип, описание\n",
    "    book_id \tINT PRIMARY KEY AUTO_INCREMENT\n",
    "    title \tVARCHAR(50)\n",
    "    author \tVARCHAR(30)\n",
    "    price \tDECIMAL(8, 2)\n",
    "    amount \tINT"
   ],
   "metadata": {}
  },
  {
   "cell_type": "markdown",
   "source": [
    "    CREATE TABLE book (\n",
    "            book_id INT PRIMARY KEY AUTO_INCREMENT,\n",
    "            title \tVARCHAR(50),\n",
    "            author \tVARCHAR(30),\n",
    "            price \tDECIMAL(8, 2),\n",
    "            amount \tINT);"
   ],
   "metadata": {}
  },
  {
   "cell_type": "markdown",
   "source": [
    "В SQL реализовано множество  математических функций для работы с числовыми данными. В таблице приведены некоторые из них.\n",
    "\n",
    "    Функция \tОписание \tПример\n",
    "    CEILING(x) \tвозвращает наименьшее целое число, большее или равное x\n",
    "                (округляет до целого числа в большую сторону) \tCEILING(4.2)=5\n",
    "                                                                CEILING(-5.8)=-5\n",
    "    ROUND(x, k) \tокругляет значение x до k знаков после запятой,\n",
    "                    если k не указано – x округляется до целого ROUND(4.361)=4\n",
    "                                                                ROUND(5.86592,1)=5.9\n",
    "    FLOOR(x) \tвозвращает наибольшее целое число, меньшее или равное x\n",
    "                (округляет до  целого числа в меньшую сторону) \tFLOOR(4.2)=4\n",
    "                                                                FLOOR(-5.8)=-6\n",
    "    POWER(x, y) \tвозведение x в степень y \tPOWER(3,4)=81.0\n",
    "    SQRT(x) \tквадратный корень из x \t                        SQRT(4)=2.0\n",
    "                                                                SQRT(2)=1.41...\n",
    "    DEGREES(x) \tконвертирует значение x из радиан в градусы \tDEGREES(3) = 171.8...\n",
    "    RADIANS(x) \tконвертирует значение x из градусов в радианы \tRADIANS(180)=3.14...\n",
    "    ABS(x) \t    модуль числа x \t                                ABS(-1) = 1\n",
    "                                                                ABS(1) = 1\n",
    "    PI() \t    pi = 3.1415926... \t "
   ],
   "metadata": {}
  },
  {
   "cell_type": "code",
   "execution_count": null,
   "source": [],
   "outputs": [],
   "metadata": {}
  }
 ]
}