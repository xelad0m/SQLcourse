{
 "cells": [
  {
   "cell_type": "markdown",
   "metadata": {},
   "source": [
    "## Сброс забытого root пароля MySQL\n",
    "\n",
    "    mysql -u root -p                                                           \n",
    "    Enter password:                                                                 \n",
    "    ERROR 1045 (28000): Access denied for user 'root'@'localhost' (using password: YES) \n",
    "\n",
    "Остановить сервер  \n",
    "\n",
    "    sudo service mysqld stop\n",
    "\n",
    "В файле /etc/mysql/mysql.conf.d/mysqld.cnf\n",
    "\n",
    "    [mysqld]\n",
    "    # отключение проверки пароля\n",
    "    skip-grant-tables\n",
    "\n",
    "Запустить сервер  \n",
    "\n",
    "    sudo service mysqld start\n",
    "\n",
    "В консоли mysql:\n",
    "\n",
    "    $ mysql -u root\n",
    "    mysql> use mysql;\n",
    "    mysql> show tables;\n",
    "    mysql> describe user;\n",
    "    mysql> SELECT authentication_string FROM mysql.user;\n",
    "    ... # хеш пароля (ничего не дает)\n",
    "    \n",
    "    mysql> UPDATE mysql.user SET authentication_string=PASSWORD('pass') WHERE user='root';\n",
    "    \n",
    "  mysql> UPDATE mysql.user SET authentication_string=CONCAT('*', UPPER(SHA1(UNHEX(SHA1('pass'))))) WHERE user='root';\n",
    "    \n",
    "    mysql> FLUSH PRIVILEGES;\n",
    "    mysql> exit\n",
    "\n",
    "Убрать строку в файле /etc/mysql/mysql.conf.d/mysqld.cnf. Настройки подхвятятся автоматически."
   ]
  },
  {
   "cell_type": "markdown",
   "metadata": {},
   "source": [
    "## Аутентификация пользователя в MySQL без пароля (по сокету)\n",
    "\n",
    "В файле /etc/mysql/mysql.conf.d/mysqld.cnf\n",
    "\n",
    "    [mysqld]\n",
    "    ...\n",
    "    # плагин аутентификации по имени польтзователя через сокет\n",
    "    plugin-load-add=auth_socket.so\n",
    "\n",
    "Либо в консоли \n",
    "\n",
    "    INSTALL PLUGIN auth_socket SONAME 'auth_socket.so';\n",
    "\n",
    "В консоли\n",
    "\n",
    "    $ mysql -u root -p\n",
    "    Enter password: \n",
    "    mysql> CREATE USER 'user1'@'localhost' IDENTIFIED WITH auth_socket;                                                                                                           \n",
    "    mysql> GRANT ALL PRIVILEGES ON *.* TO 'user1'@'localhost';                                                                                                          \n",
    "    mysql> SELECT plugin from mysql.user where User='user1';                                                                                  \n",
    "    ...\n",
    "    auth_socket\n",
    "    \n",
    "    $ mysql"
   ]
  },
  {
   "cell_type": "markdown",
   "metadata": {},
   "source": [
    "https://github.com/IsFilimonov/LearningPath/\n",
    "\n",
    "Для работы с базой лично я использую IDE DataGrip (платная) или DBeaver (бесплатная) - под MacOS.  \n",
    "DBeaver - все возможные виды баз данных.  \n",
    "Чисто для MySQL - MySQL Workbench.  \n",
    "\n",
    "Это всё сторонние решения, но можно воспользоваться более простым способом - использовать Jupyter Notebook в роли SQL IDE. Для этого нам потребуется установить несколько библиотек. Для работы с Jupyter Notebook я использую платформу Anaconda, поэтому все нужные библиотеки для работы я буду устанавливать именно в эту среду. Я не буду останавливаться на деталях в вопросе \"как?\", чтобы в деталях не закопаться. В интернете полно подсказок. Главное, должны быть установлены:\n",
    "\n",
    "    ipython-sql - пакет для работы с SQL запросами;\n",
    "    psycopg2 или psycopg2-binary - драйвер базы данных Postgres. Там есть нюансы с установкой;\n",
    "    mysql - драйвер MySQL;\n",
    "    sqlalchemy - ORM для работы с SQL БД.\n",
    "    \n",
    "    (py38) ➜  projects pip install mysql ipython-sql psycopg2 sqlalchemy"
   ]
  },
  {
   "cell_type": "code",
   "execution_count": 1,
   "metadata": {},
   "outputs": [
    {
     "data": {
      "text/plain": [
       "Engine(mysql://localhost:3306/mysql)"
      ]
     },
     "execution_count": 1,
     "metadata": {},
     "output_type": "execute_result"
    }
   ],
   "source": [
    "import sqlalchemy\n",
    "sqlalchemy.create_engine(\"mysql://localhost:3306/mysql\")"
   ]
  },
  {
   "cell_type": "code",
   "execution_count": 2,
   "metadata": {},
   "outputs": [],
   "source": [
    "%load_ext sql"
   ]
  },
  {
   "cell_type": "code",
   "execution_count": 3,
   "metadata": {},
   "outputs": [],
   "source": [
    "%sql mysql://localhost:3306/mysql"
   ]
  },
  {
   "cell_type": "code",
   "execution_count": 5,
   "metadata": {},
   "outputs": [
    {
     "name": "stdout",
     "output_type": "stream",
     "text": [
      " * mysql://localhost:3306/mysql\n",
      "14 rows affected.\n"
     ]
    },
    {
     "data": {
      "text/html": [
       "<table>\n",
       "    <tr>\n",
       "        <th>Database</th>\n",
       "    </tr>\n",
       "    <tr>\n",
       "        <td>billing_simple</td>\n",
       "    </tr>\n",
       "    <tr>\n",
       "        <td>information_schema</td>\n",
       "    </tr>\n",
       "    <tr>\n",
       "        <td>module24</td>\n",
       "    </tr>\n",
       "    <tr>\n",
       "        <td>module31</td>\n",
       "    </tr>\n",
       "    <tr>\n",
       "        <td>module33</td>\n",
       "    </tr>\n",
       "    <tr>\n",
       "        <td>module35</td>\n",
       "    </tr>\n",
       "    <tr>\n",
       "        <td>module41</td>\n",
       "    </tr>\n",
       "    <tr>\n",
       "        <td>mysql</td>\n",
       "    </tr>\n",
       "    <tr>\n",
       "        <td>performance_schema</td>\n",
       "    </tr>\n",
       "    <tr>\n",
       "        <td>project_simple</td>\n",
       "    </tr>\n",
       "    <tr>\n",
       "        <td>store</td>\n",
       "    </tr>\n",
       "    <tr>\n",
       "        <td>store_simple</td>\n",
       "    </tr>\n",
       "    <tr>\n",
       "        <td>sys</td>\n",
       "    </tr>\n",
       "    <tr>\n",
       "        <td>test_tasks</td>\n",
       "    </tr>\n",
       "</table>"
      ],
      "text/plain": [
       "[('billing_simple',),\n",
       " ('information_schema',),\n",
       " ('module24',),\n",
       " ('module31',),\n",
       " ('module33',),\n",
       " ('module35',),\n",
       " ('module41',),\n",
       " ('mysql',),\n",
       " ('performance_schema',),\n",
       " ('project_simple',),\n",
       " ('store',),\n",
       " ('store_simple',),\n",
       " ('sys',),\n",
       " ('test_tasks',)]"
      ]
     },
     "execution_count": 5,
     "metadata": {},
     "output_type": "execute_result"
    }
   ],
   "source": [
    "%%sql\n",
    "\n",
    "SHOW DATABASES;"
   ]
  },
  {
   "cell_type": "markdown",
   "metadata": {},
   "source": [
    "## PostgreSQL\n",
    "\n",
    "    sudo apt install postgresql\n",
    "\n",
    "Будет создан пользователь по-умолчанию postgres\n",
    "\n",
    "    sudo -i -u postgres\n",
    "\n",
    "    ➜  ~  sudo -i -u postgres\n",
    "    postgres@Z87N:~$ psql\n",
    "    psql (12.8 (Ubuntu 12.8-0ubuntu0.20.04.1))\n",
    "    Type \"help\" for help.\n",
    "\n",
    "    postgres=# \\conninfo\n",
    "    You are connected to database \"postgres\" as user \"postgres\" via socket in \"/var/run/postgresql\" at port \"5432\".\n",
    "\n",
    "\n",
    "Для админа (portgres) авторизация по сокету включена по умолчанию. Имеет смысл создать одноименного пользователя.\n",
    "\n",
    "    postgres@Z87N:~$ createuser --interactive                                                                                      \n",
    "    Enter name of role to add: user1\n",
    "    Shall the new role be a superuser? (y/n) y\n",
    "\n",
    "    createdb user1\n",
    "    \n",
    "    $ psql\n",
    "\n",
    "Все, локальный пользователь user1 логинится без пароля.  \n",
    "Остальные настройки /etc/postgresql/12/main/pg_hba.conf.  \n",
    "По-умолчанию все сетевые подключения по паролю md5."
   ]
  },
  {
   "cell_type": "code",
   "execution_count": 52,
   "metadata": {},
   "outputs": [
    {
     "data": {
      "text/plain": [
       "Engine(postgresql:///postgres)"
      ]
     },
     "execution_count": 52,
     "metadata": {},
     "output_type": "execute_result"
    }
   ],
   "source": [
    "# чтобы sqlalchemy идентифицировалась по пользователю, обязательно убрать localhost\n",
    "import sqlalchemy\n",
    "sqlalchemy.create_engine(\"postgresql:///postgres\")"
   ]
  },
  {
   "cell_type": "code",
   "execution_count": 53,
   "metadata": {},
   "outputs": [],
   "source": [
    "%reload_ext sql"
   ]
  },
  {
   "cell_type": "code",
   "execution_count": 54,
   "metadata": {},
   "outputs": [],
   "source": [
    "%sql postgresql:///postgres"
   ]
  },
  {
   "cell_type": "code",
   "execution_count": 57,
   "metadata": {},
   "outputs": [
    {
     "name": "stdout",
     "output_type": "stream",
     "text": [
      " * postgresql:///postgres\n",
      "1 rows affected.\n"
     ]
    },
    {
     "data": {
      "text/html": [
       "<table>\n",
       "    <tr>\n",
       "        <th>version</th>\n",
       "    </tr>\n",
       "    <tr>\n",
       "        <td>PostgreSQL 12.8 (Ubuntu 12.8-0ubuntu0.20.04.1) on x86_64-pc-linux-gnu, compiled by gcc (Ubuntu 9.3.0-17ubuntu1~20.04) 9.3.0, 64-bit</td>\n",
       "    </tr>\n",
       "</table>"
      ],
      "text/plain": [
       "[('PostgreSQL 12.8 (Ubuntu 12.8-0ubuntu0.20.04.1) on x86_64-pc-linux-gnu, compiled by gcc (Ubuntu 9.3.0-17ubuntu1~20.04) 9.3.0, 64-bit',)]"
      ]
     },
     "execution_count": 57,
     "metadata": {},
     "output_type": "execute_result"
    }
   ],
   "source": [
    "%%sql\n",
    "\n",
    "SELECT version();"
   ]
  }
 ],
 "metadata": {
  "kernelspec": {
   "display_name": "Python 3.10.7 ('py310')",
   "language": "python",
   "name": "python3"
  },
  "language_info": {
   "codemirror_mode": {
    "name": "ipython",
    "version": 3
   },
   "file_extension": ".py",
   "mimetype": "text/x-python",
   "name": "python",
   "nbconvert_exporter": "python",
   "pygments_lexer": "ipython3",
   "version": "3.10.7"
  },
  "orig_nbformat": 4,
  "vscode": {
   "interpreter": {
    "hash": "53d00ba0b92f737b23b3e678e3a3ceb3fe4e948ad1ab95d9c6fdcbb4b4ec65f3"
   }
  }
 },
 "nbformat": 4,
 "nbformat_minor": 2
}
